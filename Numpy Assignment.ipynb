{
 "cells": [
  {
   "cell_type": "code",
   "execution_count": 3,
   "metadata": {},
   "outputs": [],
   "source": [
    "import numpy as np\n",
    "import pandas as pd"
   ]
  },
  {
   "cell_type": "markdown",
   "metadata": {},
   "source": [
    "## Q:2\n",
    "#### Problem statement\n",
    "Given a sequence of n values x1, x2, ..., xn and a window size k>0, the k-th moving average of\n",
    "the given sequence is defined as follows:\n",
    "\n",
    "#### Question: \n",
    "\n",
    "Write a function to find moving average in an array over a window:\n",
    "Test it over [3, 5, 7, 2, 8, 10, 11, 65, 72, 81, 99, 100, 150] and window of 3."
   ]
  },
  {
   "cell_type": "code",
   "execution_count": 2,
   "metadata": {},
   "outputs": [],
   "source": [
    "def moving_average(sequence, window_size, moving_seq=[]):\n",
    "    for i in range(len(sequence)):\n",
    "        brk_seq = sequence[i:i+window_size]\n",
    "        if len(brk_seq) == window_size:\n",
    "            moving_seq.append(brk_seq)\n",
    "            \n",
    "    print(moving_seq)\n",
    "    print(\"=\"*70)\n",
    "    \n",
    "    for i in range(len(moving_seq)):\n",
    "        print(f\"y{i+1}\", int(sum(moving_seq[i])/window_size))\n",
    "        \n",
    "    print('='*70)\n",
    "    moving_average_array = len(sequence) - window_size + 1\n",
    "    \n",
    "    return print(f\"Movig avrage in {sequence} over {window_size} window size has values: \", moving_average_array)"
   ]
  },
  {
   "cell_type": "code",
   "execution_count": 3,
   "metadata": {},
   "outputs": [
    {
     "name": "stdout",
     "output_type": "stream",
     "text": [
      "[[3, 5, 7], [5, 7, 2], [7, 2, 8], [2, 8, 10], [8, 10, 11], [10, 11, 65], [11, 65, 72], [65, 72, 81], [72, 81, 99], [81, 99, 100], [99, 100, 150]]\n",
      "======================================================================\n",
      "y1 5\n",
      "y2 4\n",
      "y3 5\n",
      "y4 6\n",
      "y5 9\n",
      "y6 28\n",
      "y7 49\n",
      "y8 72\n",
      "y9 84\n",
      "y10 93\n",
      "y11 116\n",
      "======================================================================\n",
      "Movig avrage in [3, 5, 7, 2, 8, 10, 11, 65, 72, 81, 99, 100, 150] over 3 window size has values:  11\n"
     ]
    }
   ],
   "source": [
    "moving_average(sequence=[3, 5, 7, 2, 8, 10, 11, 65, 72, 81, 99, 100, 150], window_size=3)"
   ]
  },
  {
   "cell_type": "markdown",
   "metadata": {},
   "source": [
    "### Q:1\n",
    "Write a function so that the columns of the output matrix are powers of the input\n",
    "vector.\n",
    "\n",
    "The order of the powers is determined by the increasing boolean argument. Specifically, when\n",
    "increasing is False, the i-th output column is the input vector raised element-wise to the power\n",
    "of N - i - 1."
   ]
  },
  {
   "cell_type": "code",
   "execution_count": 4,
   "metadata": {},
   "outputs": [],
   "source": [
    "def Vandermonde(x, N, increasing, get_data=[]):\n",
    "    n = len(x)\n",
    "    if not increasing:\n",
    "        for i in x: \n",
    "            for j in range(N):\n",
    "                get_data.append(i**(N-j-1))\n",
    "    if increasing:\n",
    "        for i in x:\n",
    "            for j in range(N):\n",
    "                get_data.append(i**j)\n",
    "\n",
    "    return np.reshape(get_data, (n,N))"
   ]
  },
  {
   "cell_type": "code",
   "execution_count": 5,
   "metadata": {},
   "outputs": [
    {
     "data": {
      "text/plain": [
       "array([[ 1,  1,  1],\n",
       "       [ 1,  2,  4],\n",
       "       [ 1,  3,  9],\n",
       "       [ 1,  4, 16]])"
      ]
     },
     "execution_count": 5,
     "metadata": {},
     "output_type": "execute_result"
    }
   ],
   "source": [
    "Vandermonde(x=[1,2,3,4], N=3, increasing=True)"
   ]
  },
  {
   "cell_type": "code",
   "execution_count": 5,
   "metadata": {},
   "outputs": [
    {
     "data": {
      "text/plain": [
       "array([[ 1,  1,  1],\n",
       "       [ 4,  2,  1],\n",
       "       [ 9,  3,  1],\n",
       "       [36,  6,  1]])"
      ]
     },
     "execution_count": 5,
     "metadata": {},
     "output_type": "execute_result"
    }
   ],
   "source": [
    "Vandermonde(x=[1,2,3,6], N=3, increasing=False)"
   ]
  },
  {
   "cell_type": "code",
   "execution_count": null,
   "metadata": {},
   "outputs": [],
   "source": []
  }
 ],
 "metadata": {
  "kernelspec": {
   "display_name": "Python 3",
   "language": "python",
   "name": "python3"
  },
  "language_info": {
   "codemirror_mode": {
    "name": "ipython",
    "version": 3
   },
   "file_extension": ".py",
   "mimetype": "text/x-python",
   "name": "python",
   "nbconvert_exporter": "python",
   "pygments_lexer": "ipython3",
   "version": "3.8.3"
  }
 },
 "nbformat": 4,
 "nbformat_minor": 4
}
